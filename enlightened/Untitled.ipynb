{
 "cells": [
  {
   "cell_type": "code",
   "execution_count": 43,
   "metadata": {
    "collapsed": false
   },
   "outputs": [],
   "source": [
    "## Python code for numerically optimising an input image to yield a maximum class score\n",
    "import tensorflow as tf\n",
    "import pandas as pd\n",
    "import numpy as np\n",
    "import sys\n",
    "import os\n",
    "import scipy.io\n",
    "from scipy import misc\n",
    "import matplotlib.pyplot as plt\n",
    "\n",
    "sys.path.insert(0, '../')\n",
    "import visualising_vgg as vgg"
   ]
  },
  {
   "cell_type": "code",
   "execution_count": 2,
   "metadata": {
    "collapsed": true
   },
   "outputs": [],
   "source": [
    "IMAGE_WIDTH = 224\n",
    "IMAGE_HEIGHT = 224\n",
    "IMAGE_DEPTH = 3\n",
    "path = '../../Tensorflow-CS20SI/Assignment_2/style_transfer/imagenet-vgg-verydeep-19.mat'\n",
    "class_arg = 100 ## Visualising 100th class\n",
    "LEARNING_RATE = 1e-3"
   ]
  },
  {
   "cell_type": "code",
   "execution_count": 3,
   "metadata": {
    "collapsed": false
   },
   "outputs": [
    {
     "name": "stdout",
     "output_type": "stream",
     "text": [
      "Loading the graph..\n"
     ]
    }
   ],
   "source": [
    "## Loading the graph\n",
    "print 'Loading the graph..'\n",
    "vgg_model = scipy.io.loadmat(path)\n",
    "vgg_layers = vgg_model['layers']"
   ]
  },
  {
   "cell_type": "code",
   "execution_count": 4,
   "metadata": {
    "collapsed": true
   },
   "outputs": [],
   "source": [
    "def _fully_connected(vgg_layers, prev_layer, layer, expected_layer_name):\n",
    "    \n",
    "    with tf.variable_scope(expected_layer_name) as scope:\n",
    "\n",
    "        W, b = vgg._weights(vgg_layers, layer, expected_layer_name)\n",
    "        W = tf.constant(W)\n",
    "        b = tf.constant(b)\n",
    "        try:\n",
    "            w, x, y, z = W.shape\n",
    "            W = tf.reshape(W, [int(w*x*y), int(z)])\n",
    "        except:\n",
    "            pass\n",
    "        try:\n",
    "            w, x, y, z = prev_layer.shape\n",
    "            flattened = int(x*y*z)\n",
    "        except:\n",
    "            flattened = int(prev_layer.shape[1])\n",
    "            \n",
    "        flat = tf.reshape(prev_layer, [-1,flattened])\n",
    "        full = tf.matmul(flat, W)\n",
    "        relu = tf.nn.relu(full + b)\n",
    "        return relu"
   ]
  },
  {
   "cell_type": "code",
   "execution_count": 5,
   "metadata": {
    "collapsed": true
   },
   "outputs": [],
   "source": [
    "def _dropout(prev_layer, keep_probs, expected_layer_name):\n",
    "    \n",
    "    with tf.variable_scope(expected_layer_name) as scope:\n",
    "        return tf.nn.dropout(prev_layer, keep_probs)"
   ]
  },
  {
   "cell_type": "code",
   "execution_count": 6,
   "metadata": {
    "collapsed": true
   },
   "outputs": [],
   "source": [
    "def loss(image, score, reg_param):\n",
    "    with tf.variable_scope(\"loss\") as scope:\n",
    "        loss = tf.reduce_mean(score - reg_param*tf.reduce_sum(tf.square(image)))\n",
    "        return loss"
   ]
  },
  {
   "cell_type": "code",
   "execution_count": 7,
   "metadata": {
    "collapsed": true
   },
   "outputs": [],
   "source": [
    "def _optimizer(loss):\n",
    "    with tf.variable_scope('optimizer') as scope:\n",
    "        optimizer = tf.train.AdamOptimizer(learning_rate=LEARNING_RATE).minimize(-1*loss)\n",
    "        return optimizer"
   ]
  },
  {
   "cell_type": "markdown",
   "metadata": {},
   "source": [
    "### Class Model Visualisation"
   ]
  },
  {
   "cell_type": "code",
   "execution_count": 29,
   "metadata": {
    "collapsed": true
   },
   "outputs": [],
   "source": [
    "tf.reset_default_graph()"
   ]
  },
  {
   "cell_type": "code",
   "execution_count": 30,
   "metadata": {
    "collapsed": true
   },
   "outputs": [],
   "source": [
    "with tf.variable_scope(\"Inputs\") as scope:\n",
    "    image = tf.Variable(initial_value=tf.random_normal(shape=[1, IMAGE_WIDTH, IMAGE_HEIGHT, IMAGE_DEPTH]),name=\"Image\")\n",
    "    keep_probs = tf.placeholder(dtype=tf.float32,name=\"keep_probs\")"
   ]
  },
  {
   "cell_type": "code",
   "execution_count": 31,
   "metadata": {
    "collapsed": false
   },
   "outputs": [],
   "source": [
    "## Assembling the graph\n",
    "graph = {} \n",
    "graph['conv1_1']  = vgg._conv_relu(vgg_layers, image, 0, 'conv1_1')\n",
    "graph['conv1_2']  = vgg._conv_relu(vgg_layers, graph['conv1_1'], 2, 'conv1_2')\n",
    "graph['avgpool1'] = vgg._avg_pool(graph['conv1_2'],'avgpool1')\n",
    "graph['conv2_1']  = vgg._conv_relu(vgg_layers, graph['avgpool1'], 5, 'conv2_1')\n",
    "graph['conv2_2']  = vgg._conv_relu(vgg_layers, graph['conv2_1'], 7, 'conv2_2')\n",
    "graph['avgpool2'] = vgg._avg_pool(graph['conv2_2'],'avgpool2')\n",
    "graph['conv3_1']  = vgg._conv_relu(vgg_layers, graph['avgpool2'], 10, 'conv3_1')\n",
    "graph['conv3_2']  = vgg._conv_relu(vgg_layers, graph['conv3_1'], 12, 'conv3_2')\n",
    "graph['conv3_3']  = vgg._conv_relu(vgg_layers, graph['conv3_2'], 14, 'conv3_3')\n",
    "graph['conv3_4']  = vgg._conv_relu(vgg_layers, graph['conv3_3'], 16, 'conv3_4')\n",
    "graph['avgpool3'] = vgg._avg_pool(graph['conv3_4'],'avgpool3')\n",
    "graph['conv4_1']  = vgg._conv_relu(vgg_layers, graph['avgpool3'], 19, 'conv4_1')\n",
    "graph['conv4_2']  = vgg._conv_relu(vgg_layers, graph['conv4_1'], 21, 'conv4_2')\n",
    "graph['conv4_3']  = vgg._conv_relu(vgg_layers, graph['conv4_2'], 23, 'conv4_3')\n",
    "graph['conv4_4']  = vgg._conv_relu(vgg_layers, graph['conv4_3'], 25, 'conv4_4')\n",
    "graph['avgpool4'] = vgg._avg_pool(graph['conv4_4'],'avgpool4')\n",
    "graph['conv5_1']  = vgg._conv_relu(vgg_layers, graph['avgpool4'], 28, 'conv5_1')\n",
    "graph['conv5_2']  = vgg._conv_relu(vgg_layers, graph['conv5_1'], 30, 'conv5_2')\n",
    "graph['conv5_3']  = vgg._conv_relu(vgg_layers, graph['conv5_2'], 32, 'conv5_3')\n",
    "graph['conv5_4']  = vgg._conv_relu(vgg_layers, graph['conv5_3'], 34, 'conv5_4')\n",
    "graph['avgpool5'] = vgg._avg_pool(graph['conv5_4'],'avgpool5')\n",
    "graph['fc6'] = _fully_connected(vgg_layers, graph['avgpool5'], 37, 'fc6')\n",
    "graph['dropout1'] = _dropout(graph['fc6'],keep_probs,'dropout1')\n",
    "graph['fc7'] = _fully_connected(vgg_layers, graph['dropout1'], 39, 'fc7')\n",
    "graph['dropout2'] = _dropout(graph['fc7'], keep_probs, 'dropout2')\n",
    "graph['fc8'] = _fully_connected(vgg_layers, graph['dropout2'], 41, 'fc8')"
   ]
  },
  {
   "cell_type": "code",
   "execution_count": 32,
   "metadata": {
    "collapsed": false
   },
   "outputs": [],
   "source": [
    "graph['score'] = graph['fc8'][0,class_arg]\n",
    "graph['loss'] = loss(image, graph['score'], reg_param=0.1)"
   ]
  },
  {
   "cell_type": "code",
   "execution_count": 33,
   "metadata": {
    "collapsed": false
   },
   "outputs": [],
   "source": [
    "graph['optimizer'] = _optimizer(graph['loss'])"
   ]
  },
  {
   "cell_type": "code",
   "execution_count": 34,
   "metadata": {
    "collapsed": true
   },
   "outputs": [],
   "source": [
    "N_EPOCHS = 20"
   ]
  },
  {
   "cell_type": "code",
   "execution_count": 35,
   "metadata": {
    "collapsed": false
   },
   "outputs": [
    {
     "name": "stdout",
     "output_type": "stream",
     "text": [
      "Epoch: 1\tLoss: -150530.078125\tScore: 0.0\n",
      "Epoch: 2\tLoss: -150289.828125\tScore: 0.0\n",
      "Epoch: 3\tLoss: -150050.015625\tScore: 0.0705909729004\n",
      "Epoch: 4\tLoss: -149810.40625\tScore: 0.0\n",
      "Epoch: 5\tLoss: -149571.234375\tScore: 0.0\n",
      "Epoch: 6\tLoss: -149332.265625\tScore: 0.0\n",
      "Epoch: 7\tLoss: -149093.75\tScore: 0.0\n",
      "Epoch: 8\tLoss: -148855.515625\tScore: 0.0\n",
      "Epoch: 9\tLoss: -148617.59375\tScore: 0.0\n",
      "Epoch: 10\tLoss: -148380.03125\tScore: 0.0\n",
      "Epoch: 11\tLoss: -148142.71875\tScore: 0.0\n",
      "Epoch: 12\tLoss: -147905.609375\tScore: 0.336689054966\n",
      "Epoch: 13\tLoss: -147669.03125\tScore: 0.380449056625\n",
      "Epoch: 14\tLoss: -147433.21875\tScore: 0.0\n",
      "Epoch: 15\tLoss: -147197.359375\tScore: 0.0\n",
      "Epoch: 16\tLoss: -146961.921875\tScore: 0.0\n",
      "Epoch: 17\tLoss: -146726.859375\tScore: 0.0\n",
      "Epoch: 18\tLoss: -146492.125\tScore: 0.0\n",
      "Epoch: 19\tLoss: -146257.84375\tScore: 0.0\n",
      "Epoch: 20\tLoss: -146023.828125\tScore: 0.0\n"
     ]
    }
   ],
   "source": [
    "with tf.Session() as sess:\n",
    "    init = tf.global_variables_initializer()\n",
    "    sess.run(init)\n",
    "    \n",
    "    for i in range(N_EPOCHS):\n",
    "        \n",
    "        _, l, score = sess.run([graph['optimizer'], graph['loss'], graph['score']], \n",
    "                       feed_dict = {keep_probs:0.5})\n",
    "        print 'Epoch: {}\\tLoss: {}\\tScore: {}'.format(i+1, l, score)"
   ]
  },
  {
   "cell_type": "code",
   "execution_count": null,
   "metadata": {
    "collapsed": true
   },
   "outputs": [],
   "source": []
  }
 ],
 "metadata": {
  "anaconda-cloud": {},
  "kernelspec": {
   "display_name": "Python [default]",
   "language": "python",
   "name": "python2"
  },
  "language_info": {
   "codemirror_mode": {
    "name": "ipython",
    "version": 2
   },
   "file_extension": ".py",
   "mimetype": "text/x-python",
   "name": "python",
   "nbconvert_exporter": "python",
   "pygments_lexer": "ipython2",
   "version": "2.7.12"
  }
 },
 "nbformat": 4,
 "nbformat_minor": 1
}
